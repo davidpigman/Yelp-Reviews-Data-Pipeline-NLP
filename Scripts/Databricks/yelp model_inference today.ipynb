{
 "cells": [
  {
   "cell_type": "markdown",
   "metadata": {
    "application/vnd.databricks.v1+cell": {
     "cellMetadata": {},
     "inputWidgets": {},
     "nuid": "e75c98c4-c86e-4c00-ad24-3459b7d9fe69",
     "showTitle": false,
     "title": ""
    }
   },
   "source": [
    "<div  align='center'><img src='https://s3.amazonaws.com/weclouddata/images/logos/wcd_logo_new_2.png' width='15%'></div >\n",
    "<p style=\"font-size:30px;text-align:center\"><b>Lab Model training</b></p>\n",
    "<p style=\"font-size:20px;text-align:center\"><b><font color='#F39A54'>Data Engineering Diploma</font></b></p>\n",
    "<p style=\"font-size:15px;text-align:center\">Content developed by: WeCloudData Academy</p>"
   ]
  },
  {
   "cell_type": "markdown",
   "metadata": {
    "application/vnd.databricks.v1+cell": {
     "cellMetadata": {},
     "inputWidgets": {},
     "nuid": "002e17bc-17a9-4a7b-956a-3296af7f0a83",
     "showTitle": false,
     "title": ""
    }
   },
   "source": [
    "In this Lab, we are going to use the ML model we trained previously to make sentiment analysis to conclude the topic of each post, and summarize which topics are the most popular topics. The business reason why we train this model is because we are going to create a predict model to give a post a topic immediately when it was created. In this way, the post will be categorized to the right place for other users.\n",
    "\n",
    "Before you start this lab, please finish the **[Workshop] Mount Azure Storage to Azure Databricks** first, it is the prerequisite of the lab. \n",
    "\n",
    "In the model training process, you are going to read the reviews those come from the `Reviews` files we ingest earlier from the public ` de-yelp-daily` container. "
   ]
  },
  {
   "cell_type": "markdown",
   "metadata": {
    "application/vnd.databricks.v1+cell": {
     "cellMetadata": {},
     "inputWidgets": {},
     "nuid": "cf4b3899-42b4-4856-baae-a2d2d84d1477",
     "showTitle": false,
     "title": ""
    }
   },
   "source": [
    "The `Reviews` files are in parquet format. If you recall our previous job in data factory, they are recieved everyday and stored in a folder (in this example, we call it `Landing`). And in the `Landing` folder, the reviews parquet files are saved in the sub-folders, each sub-folder represents a day when the files were created. \n",
    "\n",
    "You can mounte it to '/mnt/deBDProject'"
   ]
  },
  {
   "cell_type": "code",
   "execution_count": null,
   "metadata": {
    "application/vnd.databricks.v1+cell": {
     "cellMetadata": {
      "byteLimit": 2048000,
      "rowLimit": 10000
     },
     "inputWidgets": {},
     "nuid": "4599b7fa-da60-4990-9ee7-7c6427bb4338",
     "showTitle": false,
     "title": ""
    }
   },
   "outputs": [],
   "source": [
    "#Original Statement\n",
    "#spark._jsc.hadoopConfiguration().set(\"fs.azure.account.key.wcddestorageexternal.dfs.core.windows.net\", \"\")"
   ]
  },
  {
   "cell_type": "code",
   "execution_count": null,
   "metadata": {
    "application/vnd.databricks.v1+cell": {
     "cellMetadata": {
      "byteLimit": 2048000,
      "rowLimit": 10000
     },
     "inputWidgets": {},
     "nuid": "7b80f3f7-95b4-4747-b654-f08e0726573e",
     "showTitle": false,
     "title": ""
    }
   },
   "outputs": [
    {
     "data": {
      "text/html": [
       "<style scoped>\n",
       "  .table-result-container {\n",
       "    max-height: 300px;\n",
       "    overflow: auto;\n",
       "  }\n",
       "  table, th, td {\n",
       "    border: 1px solid black;\n",
       "    border-collapse: collapse;\n",
       "  }\n",
       "  th, td {\n",
       "    padding: 5px;\n",
       "  }\n",
       "  th {\n",
       "    text-align: left;\n",
       "  }\n",
       "</style><div class='table-result-container'><table class='table-result'><thead style='background-color: white'><tr><th>path</th><th>name</th><th>size</th><th>modificationTime</th></tr></thead><tbody><tr><td>abfss://de-yelp-daily@wcddestorageexternal.dfs.core.windows.net/output/dt=2024-06-18/03f6e983-c920-498b-9837-14fff0a74b81.parquet</td><td>03f6e983-c920-498b-9837-14fff0a74b81.parquet</td><td>9350</td><td>1718735078000</td></tr><tr><td>abfss://de-yelp-daily@wcddestorageexternal.dfs.core.windows.net/output/dt=2024-06-18/0831a920-cb58-4fed-a09e-a9e7b2ea0168.parquet</td><td>0831a920-cb58-4fed-a09e-a9e7b2ea0168.parquet</td><td>8906</td><td>1718734825000</td></tr><tr><td>abfss://de-yelp-daily@wcddestorageexternal.dfs.core.windows.net/output/dt=2024-06-18/08b2b53f-5c53-4ded-a393-0d0ef989928d.parquet</td><td>08b2b53f-5c53-4ded-a393-0d0ef989928d.parquet</td><td>11014</td><td>1718735078000</td></tr><tr><td>abfss://de-yelp-daily@wcddestorageexternal.dfs.core.windows.net/output/dt=2024-06-18/1561f370-6604-420e-84cc-6c4083bf2e97.parquet</td><td>1561f370-6604-420e-84cc-6c4083bf2e97.parquet</td><td>8237</td><td>1718735078000</td></tr><tr><td>abfss://de-yelp-daily@wcddestorageexternal.dfs.core.windows.net/output/dt=2024-06-18/1ae7f45f-73c3-4e79-b464-0fd15e24e38f.parquet</td><td>1ae7f45f-73c3-4e79-b464-0fd15e24e38f.parquet</td><td>9402</td><td>1718734826000</td></tr><tr><td>abfss://de-yelp-daily@wcddestorageexternal.dfs.core.windows.net/output/dt=2024-06-18/24c5f19a-f4b3-4917-a953-f0fb824dd9b9.parquet</td><td>24c5f19a-f4b3-4917-a953-f0fb824dd9b9.parquet</td><td>11559</td><td>1718734826000</td></tr><tr><td>abfss://de-yelp-daily@wcddestorageexternal.dfs.core.windows.net/output/dt=2024-06-18/3cd9c560-8a69-4a39-88e1-22104310df63.parquet</td><td>3cd9c560-8a69-4a39-88e1-22104310df63.parquet</td><td>10192</td><td>1718735079000</td></tr><tr><td>abfss://de-yelp-daily@wcddestorageexternal.dfs.core.windows.net/output/dt=2024-06-18/3e2e3380-136e-449a-b38e-e270928f8590.parquet</td><td>3e2e3380-136e-449a-b38e-e270928f8590.parquet</td><td>9524</td><td>1718734807000</td></tr><tr><td>abfss://de-yelp-daily@wcddestorageexternal.dfs.core.windows.net/output/dt=2024-06-18/43413387-73f3-448a-8c68-6550e21f09a1.parquet</td><td>43413387-73f3-448a-8c68-6550e21f09a1.parquet</td><td>7998</td><td>1718735078000</td></tr><tr><td>abfss://de-yelp-daily@wcddestorageexternal.dfs.core.windows.net/output/dt=2024-06-18/47b431de-f9d5-4dfd-8dba-98f2a7ba8600.parquet</td><td>47b431de-f9d5-4dfd-8dba-98f2a7ba8600.parquet</td><td>9738</td><td>1718735079000</td></tr><tr><td>abfss://de-yelp-daily@wcddestorageexternal.dfs.core.windows.net/output/dt=2024-06-18/532afa19-fee2-4a14-91c7-eb3dcac7d833.parquet</td><td>532afa19-fee2-4a14-91c7-eb3dcac7d833.parquet</td><td>12035</td><td>1718735078000</td></tr><tr><td>abfss://de-yelp-daily@wcddestorageexternal.dfs.core.windows.net/output/dt=2024-06-18/8893d23c-10c7-40d5-aff3-bfa37acdf4c9.parquet</td><td>8893d23c-10c7-40d5-aff3-bfa37acdf4c9.parquet</td><td>8413</td><td>1718735078000</td></tr><tr><td>abfss://de-yelp-daily@wcddestorageexternal.dfs.core.windows.net/output/dt=2024-06-18/8fefcd8b-75ca-48c6-80fa-7e7a09c9266a.parquet</td><td>8fefcd8b-75ca-48c6-80fa-7e7a09c9266a.parquet</td><td>8043</td><td>1718735078000</td></tr><tr><td>abfss://de-yelp-daily@wcddestorageexternal.dfs.core.windows.net/output/dt=2024-06-18/92d609c5-9a17-4549-a817-eb78ab5c3bd7.parquet</td><td>92d609c5-9a17-4549-a817-eb78ab5c3bd7.parquet</td><td>11169</td><td>1718735078000</td></tr><tr><td>abfss://de-yelp-daily@wcddestorageexternal.dfs.core.windows.net/output/dt=2024-06-18/be4e60f5-3562-4bda-8b49-f997891e28a7.parquet</td><td>be4e60f5-3562-4bda-8b49-f997891e28a7.parquet</td><td>7539</td><td>1718734826000</td></tr><tr><td>abfss://de-yelp-daily@wcddestorageexternal.dfs.core.windows.net/output/dt=2024-06-18/c015e4c2-b246-4fd8-9cfd-5d8bc4a744f5.parquet</td><td>c015e4c2-b246-4fd8-9cfd-5d8bc4a744f5.parquet</td><td>7195</td><td>1718734807000</td></tr><tr><td>abfss://de-yelp-daily@wcddestorageexternal.dfs.core.windows.net/output/dt=2024-06-18/d83ab311-ff0e-41c7-a93e-720d46e113fe.parquet</td><td>d83ab311-ff0e-41c7-a93e-720d46e113fe.parquet</td><td>12168</td><td>1718734826000</td></tr><tr><td>abfss://de-yelp-daily@wcddestorageexternal.dfs.core.windows.net/output/dt=2024-06-18/ece69011-0c19-4f42-abdb-7fd0c7bb4d17.parquet</td><td>ece69011-0c19-4f42-abdb-7fd0c7bb4d17.parquet</td><td>9424</td><td>1718734807000</td></tr><tr><td>abfss://de-yelp-daily@wcddestorageexternal.dfs.core.windows.net/output/dt=2024-06-18/edeb7117-da59-41ac-a962-db9333ce5847.parquet</td><td>edeb7117-da59-41ac-a962-db9333ce5847.parquet</td><td>9017</td><td>1718735078000</td></tr><tr><td>abfss://de-yelp-daily@wcddestorageexternal.dfs.core.windows.net/output/dt=2024-06-18/f4531408-ea4e-4810-97de-d5268a572552.parquet</td><td>f4531408-ea4e-4810-97de-d5268a572552.parquet</td><td>10824</td><td>1718734807000</td></tr></tbody></table></div>"
      ]
     },
     "metadata": {
      "application/vnd.databricks.v1+output": {
       "addedWidgets": {},
       "aggData": [],
       "aggError": "",
       "aggOverflow": false,
       "aggSchema": [],
       "aggSeriesLimitReached": false,
       "aggType": "",
       "arguments": {},
       "columnCustomDisplayInfos": {},
       "data": [
        [
         "abfss://de-yelp-daily@wcddestorageexternal.dfs.core.windows.net/output/dt=2024-06-18/03f6e983-c920-498b-9837-14fff0a74b81.parquet",
         "03f6e983-c920-498b-9837-14fff0a74b81.parquet",
         9350,
         1718735078000
        ],
        [
         "abfss://de-yelp-daily@wcddestorageexternal.dfs.core.windows.net/output/dt=2024-06-18/0831a920-cb58-4fed-a09e-a9e7b2ea0168.parquet",
         "0831a920-cb58-4fed-a09e-a9e7b2ea0168.parquet",
         8906,
         1718734825000
        ],
        [
         "abfss://de-yelp-daily@wcddestorageexternal.dfs.core.windows.net/output/dt=2024-06-18/08b2b53f-5c53-4ded-a393-0d0ef989928d.parquet",
         "08b2b53f-5c53-4ded-a393-0d0ef989928d.parquet",
         11014,
         1718735078000
        ],
        [
         "abfss://de-yelp-daily@wcddestorageexternal.dfs.core.windows.net/output/dt=2024-06-18/1561f370-6604-420e-84cc-6c4083bf2e97.parquet",
         "1561f370-6604-420e-84cc-6c4083bf2e97.parquet",
         8237,
         1718735078000
        ],
        [
         "abfss://de-yelp-daily@wcddestorageexternal.dfs.core.windows.net/output/dt=2024-06-18/1ae7f45f-73c3-4e79-b464-0fd15e24e38f.parquet",
         "1ae7f45f-73c3-4e79-b464-0fd15e24e38f.parquet",
         9402,
         1718734826000
        ],
        [
         "abfss://de-yelp-daily@wcddestorageexternal.dfs.core.windows.net/output/dt=2024-06-18/24c5f19a-f4b3-4917-a953-f0fb824dd9b9.parquet",
         "24c5f19a-f4b3-4917-a953-f0fb824dd9b9.parquet",
         11559,
         1718734826000
        ],
        [
         "abfss://de-yelp-daily@wcddestorageexternal.dfs.core.windows.net/output/dt=2024-06-18/3cd9c560-8a69-4a39-88e1-22104310df63.parquet",
         "3cd9c560-8a69-4a39-88e1-22104310df63.parquet",
         10192,
         1718735079000
        ],
        [
         "abfss://de-yelp-daily@wcddestorageexternal.dfs.core.windows.net/output/dt=2024-06-18/3e2e3380-136e-449a-b38e-e270928f8590.parquet",
         "3e2e3380-136e-449a-b38e-e270928f8590.parquet",
         9524,
         1718734807000
        ],
        [
         "abfss://de-yelp-daily@wcddestorageexternal.dfs.core.windows.net/output/dt=2024-06-18/43413387-73f3-448a-8c68-6550e21f09a1.parquet",
         "43413387-73f3-448a-8c68-6550e21f09a1.parquet",
         7998,
         1718735078000
        ],
        [
         "abfss://de-yelp-daily@wcddestorageexternal.dfs.core.windows.net/output/dt=2024-06-18/47b431de-f9d5-4dfd-8dba-98f2a7ba8600.parquet",
         "47b431de-f9d5-4dfd-8dba-98f2a7ba8600.parquet",
         9738,
         1718735079000
        ],
        [
         "abfss://de-yelp-daily@wcddestorageexternal.dfs.core.windows.net/output/dt=2024-06-18/532afa19-fee2-4a14-91c7-eb3dcac7d833.parquet",
         "532afa19-fee2-4a14-91c7-eb3dcac7d833.parquet",
         12035,
         1718735078000
        ],
        [
         "abfss://de-yelp-daily@wcddestorageexternal.dfs.core.windows.net/output/dt=2024-06-18/8893d23c-10c7-40d5-aff3-bfa37acdf4c9.parquet",
         "8893d23c-10c7-40d5-aff3-bfa37acdf4c9.parquet",
         8413,
         1718735078000
        ],
        [
         "abfss://de-yelp-daily@wcddestorageexternal.dfs.core.windows.net/output/dt=2024-06-18/8fefcd8b-75ca-48c6-80fa-7e7a09c9266a.parquet",
         "8fefcd8b-75ca-48c6-80fa-7e7a09c9266a.parquet",
         8043,
         1718735078000
        ],
        [
         "abfss://de-yelp-daily@wcddestorageexternal.dfs.core.windows.net/output/dt=2024-06-18/92d609c5-9a17-4549-a817-eb78ab5c3bd7.parquet",
         "92d609c5-9a17-4549-a817-eb78ab5c3bd7.parquet",
         11169,
         1718735078000
        ],
        [
         "abfss://de-yelp-daily@wcddestorageexternal.dfs.core.windows.net/output/dt=2024-06-18/be4e60f5-3562-4bda-8b49-f997891e28a7.parquet",
         "be4e60f5-3562-4bda-8b49-f997891e28a7.parquet",
         7539,
         1718734826000
        ],
        [
         "abfss://de-yelp-daily@wcddestorageexternal.dfs.core.windows.net/output/dt=2024-06-18/c015e4c2-b246-4fd8-9cfd-5d8bc4a744f5.parquet",
         "c015e4c2-b246-4fd8-9cfd-5d8bc4a744f5.parquet",
         7195,
         1718734807000
        ],
        [
         "abfss://de-yelp-daily@wcddestorageexternal.dfs.core.windows.net/output/dt=2024-06-18/d83ab311-ff0e-41c7-a93e-720d46e113fe.parquet",
         "d83ab311-ff0e-41c7-a93e-720d46e113fe.parquet",
         12168,
         1718734826000
        ],
        [
         "abfss://de-yelp-daily@wcddestorageexternal.dfs.core.windows.net/output/dt=2024-06-18/ece69011-0c19-4f42-abdb-7fd0c7bb4d17.parquet",
         "ece69011-0c19-4f42-abdb-7fd0c7bb4d17.parquet",
         9424,
         1718734807000
        ],
        [
         "abfss://de-yelp-daily@wcddestorageexternal.dfs.core.windows.net/output/dt=2024-06-18/edeb7117-da59-41ac-a962-db9333ce5847.parquet",
         "edeb7117-da59-41ac-a962-db9333ce5847.parquet",
         9017,
         1718735078000
        ],
        [
         "abfss://de-yelp-daily@wcddestorageexternal.dfs.core.windows.net/output/dt=2024-06-18/f4531408-ea4e-4810-97de-d5268a572552.parquet",
         "f4531408-ea4e-4810-97de-d5268a572552.parquet",
         10824,
         1718734807000
        ]
       ],
       "datasetInfos": [],
       "dbfsResultPath": null,
       "isJsonSchema": true,
       "metadata": {},
       "overflow": false,
       "plotOptions": {
        "customPlotOptions": {},
        "displayType": "table",
        "pivotAggregation": null,
        "pivotColumns": null,
        "xColumns": null,
        "yColumns": null
       },
       "removedWidgets": [],
       "schema": [
        {
         "metadata": "{}",
         "name": "path",
         "type": "\"string\""
        },
        {
         "metadata": "{}",
         "name": "name",
         "type": "\"string\""
        },
        {
         "metadata": "{}",
         "name": "size",
         "type": "\"long\""
        },
        {
         "metadata": "{}",
         "name": "modificationTime",
         "type": "\"long\""
        }
       ],
       "type": "table"
      }
     },
     "output_type": "display_data"
    }
   ],
   "source": [
    "\n",
    "from datetime import datetime\n",
    "current_date_str = \"dt=\" + datetime.now().strftime(\"%Y-%m-%d\")\n",
    "#current_date_str = \"dt=2024-10-29\"\n",
    "#path = f\"abfss://de-yelp-daily@wcddestorageexternal.dfs.core.windows.net/output/{current_date_str}/\"\n",
    "path = f\"/mnt/deBDproject/de-yelp-daily/reviews/{current_date_str}/\"\n",
    "display(dbutils.fs.ls(path))"
   ]
  },
  {
   "cell_type": "markdown",
   "metadata": {
    "application/vnd.databricks.v1+cell": {
     "cellMetadata": {},
     "inputWidgets": {},
     "nuid": "3fb7e346-164a-40bd-b455-76ce805a0401",
     "showTitle": false,
     "title": ""
    }
   },
   "source": [
    "## 1. Preparation"
   ]
  },
  {
   "cell_type": "markdown",
   "metadata": {
    "application/vnd.databricks.v1+cell": {
     "cellMetadata": {},
     "inputWidgets": {},
     "nuid": "d123abca-2c7b-4e5d-a740-f458a0c8fe9c",
     "showTitle": false,
     "title": ""
    }
   },
   "source": [
    "#### 1.1 Spark preparation"
   ]
  },
  {
   "cell_type": "code",
   "execution_count": null,
   "metadata": {
    "application/vnd.databricks.v1+cell": {
     "cellMetadata": {
      "byteLimit": 2048000,
      "rowLimit": 10000
     },
     "inputWidgets": {},
     "nuid": "c3dd52a9-9feb-457b-9aca-0f6f88721e8a",
     "showTitle": false,
     "title": ""
    }
   },
   "outputs": [],
   "source": [
    "# import necessary libaries\n",
    "from pyspark.sql.functions import *"
   ]
  },
  {
   "cell_type": "code",
   "execution_count": null,
   "metadata": {
    "application/vnd.databricks.v1+cell": {
     "cellMetadata": {
      "byteLimit": 2048000,
      "rowLimit": 10000
     },
     "inputWidgets": {},
     "nuid": "473c7dff-6e6f-4f3c-bf48-4283559e32fb",
     "showTitle": false,
     "title": ""
    }
   },
   "outputs": [],
   "source": [
    "# Creating Spark Session\n",
    "# from pyspark.sql import SparkSession\n",
    "\n",
    "# spark = (SparkSession\n",
    "#          .builder\n",
    "#          .appName(\"ML Model\")\n",
    "#          .getOrCreate())\n",
    "\n",
    "# sc = spark.sparkContext"
   ]
  },
  {
   "cell_type": "markdown",
   "metadata": {
    "application/vnd.databricks.v1+cell": {
     "cellMetadata": {},
     "inputWidgets": {},
     "nuid": "2a3afe79-00d5-4dac-be4a-c40b5da38381",
     "showTitle": false,
     "title": ""
    }
   },
   "source": [
    "#### 1.2 Prepare a UDF (User Defined Function)\n",
    "We need to create UDF (user data functions) to embed the ML model we trained in the previous workshop. This model will be used for Posts data sentiment analysis.\r\n",
    "\r\n",
    "User Defined Function: prepare_data(df) Normalize, clean and set case to lowercase for model. Add additional columns to dataframe for reporting purposes: (\"business_id\",\"cool\",\"funny\",\"review_id\",\"text\",\"useful\",\"user_id\",\"date\")\r\n",
    "\r\n",
    "User Defined Function: predictions_udf(df.ml_model,stringindexer): Loading dataframe, model and stringindexer (decoded labels).\r\n",
    "\r\n",
    "Decoding the indexer from pyspark.ml.feature import StringIndexerModel, IndexToString"
   ]
  },
  {
   "cell_type": "code",
   "execution_count": null,
   "metadata": {},
   "outputs": [],
   "source": [
    "from pyspark.sql.functions import col, regexp_replace, lower, trim\n",
    "from pyspark.ml import PipelineModel\n",
    "from pyspark.ml.feature import StringIndexerModel, IndexToString\n",
    "\n",
    "def prepare_data(df):\n",
    "    #  Add additional columns to dataframe for reporting purposes\n",
    "    df = df.select(\"business_id\",\"cool\",\"funny\",\"review_id\",\"text\",\"useful\",\"user_id\",\"date\")\n",
    "    cleaned = df.withColumn(\"text\", lower(df.text)) \\\n",
    "        .withColumn(\"text\", regexp_replace(\"text\", \"[^a-zA-Z\\\\s]\", \"\")) \\\n",
    "        .withColumn(\"text\", regexp_replace(\"text\", \"\\\\s+\", \" \")) \n",
    "    return cleaned\n",
    "\n",
    "\n",
    "def predictions_udf(df, ml_model, stringindexer):\n",
    "\n",
    "    # Load in the saved pipeline model\n",
    "    model = PipelineModel.load(ml_model)\n",
    "\n",
    "    # Making the predictions\n",
    "    prediction = model.transform(df)\n",
    " \n",
    "    # Add additional columns to dataframe for reporting purposes\n",
    "    predicted = prediction.select(col('business_id'), col('cool'),col('funny'),col('review_id'),col('text'), col('useful'), col('user_id'), col('date'), col('prediction'))\n",
    "\n",
    "    # Decoding the indexer\n",
    "    #from pyspark.ml.feature import StringIndexerModel, IndexToString\n",
    "\n",
    "    # Load in the StringIndexer that was saved\n",
    "    indexer = StringIndexerModel.load(stringindexer)\n",
    "\n",
    "    # Initialize the IndexToString converter\n",
    "    i2s = IndexToString(inputCol = 'prediction', outputCol = 'decoded', labels = indexer.labels)\n",
    "    converted = i2s.transform(predicted)\n",
    "\n",
    "    # Display the important columns\n",
    "    return converted"
   ]
  },
  {
   "cell_type": "markdown",
   "metadata": {
    "application/vnd.databricks.v1+cell": {
     "cellMetadata": {},
     "inputWidgets": {},
     "nuid": "3c86d96d-78da-4a1d-b0ad-5c612866db41",
     "showTitle": false,
     "title": ""
    }
   },
   "source": [
    "#### 1.3 Load Posts files and ML model"
   ]
  },
  {
   "cell_type": "markdown",
   "metadata": {
    "application/vnd.databricks.v1+cell": {
     "cellMetadata": {},
     "inputWidgets": {},
     "nuid": "59227054-1d7a-40ae-bbd2-043e77559b69",
     "showTitle": false,
     "title": ""
    }
   },
   "source": [
    "If you can remember our last workshop for machine learning model training, our trained model was saved to `/mnt/deBDProject/model`. Yours name might be different.  Let's load the Posts files and then ml model. Set model, indexer, reviews file paths"
   ]
  },
  {
   "cell_type": "code",
   "execution_count": null,
   "metadata": {
    "application/vnd.databricks.v1+cell": {
     "cellMetadata": {
      "byteLimit": 2048000,
      "rowLimit": 10000
     },
     "inputWidgets": {},
     "nuid": "caf704e3-f86f-4d04-acba-bbf017f36852",
     "showTitle": false,
     "title": ""
    }
   },
   "outputs": [
    {
     "data": {
      "text/html": [
       "<style scoped>\n",
       "  .table-result-container {\n",
       "    max-height: 300px;\n",
       "    overflow: auto;\n",
       "  }\n",
       "  table, th, td {\n",
       "    border: 1px solid black;\n",
       "    border-collapse: collapse;\n",
       "  }\n",
       "  th, td {\n",
       "    padding: 5px;\n",
       "  }\n",
       "  th {\n",
       "    text-align: left;\n",
       "  }\n",
       "</style><div class='table-result-container'><table class='table-result'><thead style='background-color: white'><tr><th>path</th><th>name</th><th>size</th><th>modificationTime</th></tr></thead><tbody><tr><td>abfss://de-yelp-train@wcddestorageexternal.dfs.core.windows.net/model/metadata/</td><td>metadata/</td><td>0</td><td>1718065696000</td></tr><tr><td>abfss://de-yelp-train@wcddestorageexternal.dfs.core.windows.net/model/stages/</td><td>stages/</td><td>0</td><td>1718065697000</td></tr></tbody></table></div>"
      ]
     },
     "metadata": {
      "application/vnd.databricks.v1+output": {
       "addedWidgets": {},
       "aggData": [],
       "aggError": "",
       "aggOverflow": false,
       "aggSchema": [],
       "aggSeriesLimitReached": false,
       "aggType": "",
       "arguments": {},
       "columnCustomDisplayInfos": {},
       "data": [
        [
         "abfss://de-yelp-train@wcddestorageexternal.dfs.core.windows.net/model/metadata/",
         "metadata/",
         0,
         1718065696000
        ],
        [
         "abfss://de-yelp-train@wcddestorageexternal.dfs.core.windows.net/model/stages/",
         "stages/",
         0,
         1718065697000
        ]
       ],
       "datasetInfos": [],
       "dbfsResultPath": null,
       "isJsonSchema": true,
       "metadata": {},
       "overflow": false,
       "plotOptions": {
        "customPlotOptions": {},
        "displayType": "table",
        "pivotAggregation": null,
        "pivotColumns": null,
        "xColumns": null,
        "yColumns": null
       },
       "removedWidgets": [],
       "schema": [
        {
         "metadata": "{}",
         "name": "path",
         "type": "\"string\""
        },
        {
         "metadata": "{}",
         "name": "name",
         "type": "\"string\""
        },
        {
         "metadata": "{}",
         "name": "size",
         "type": "\"long\""
        },
        {
         "metadata": "{}",
         "name": "modificationTime",
         "type": "\"long\""
        }
       ],
       "type": "table"
      }
     },
     "output_type": "display_data"
    }
   ],
   "source": [
    "#Original Statement\n",
    "#display(dbutils.fs.ls(\"abfss://de-yelp-train@wcddestorageexternal.dfs.core.windows.net/model/\"))"
   ]
  },
  {
   "cell_type": "markdown",
   "metadata": {
    "application/vnd.databricks.v1+cell": {
     "cellMetadata": {},
     "inputWidgets": {},
     "nuid": "0bc5a560-5927-4253-bf3c-ea66566cc1ee",
     "showTitle": false,
     "title": ""
    }
   },
   "source": [
    "Let's load the Posts files and the ml model"
   ]
  },
  {
   "cell_type": "code",
   "execution_count": null,
   "metadata": {
    "application/vnd.databricks.v1+cell": {
     "cellMetadata": {
      "byteLimit": 2048000,
      "rowLimit": 10000
     },
     "inputWidgets": {},
     "nuid": "40f1e206-3180-4d97-a996-e2536d938626",
     "showTitle": false,
     "title": ""
    }
   },
   "outputs": [],
   "source": [
    "#reviews = spark.read.parquet(path)\n",
    "#ml_model = \"abfss://de-yelp-train@wcddestorageexternal.dfs.core.windows.net/model/\"\n",
    "#stringindexer = \"abfss://de-yelp-train@wcddestorageexternal.dfs.core.windows.net/stringindexer\""
   ]
  },
  {
   "cell_type": "code",
   "execution_count": null,
   "metadata": {},
   "outputs": [],
   "source": [
    "reviews = spark.read.parquet(path)\n",
    "#ml_model = \"abfss://de-yelp-train@wcddestorageexternal.dfs.core.windows.net/model/\"\n",
    "#stringindexer = \"abfss://de-yelp-train@wcddestorageexternal.dfs.core.windows.net/stringindexer\"\n",
    "\n",
    "ml_model = \"/mnt/deBDproject/de-yelp-train/model/\"\n",
    "stringindexer = \"/mnt/deBDproject/de-yelp-train/stringindexer\""
   ]
  },
  {
   "cell_type": "code",
   "execution_count": null,
   "metadata": {
    "application/vnd.databricks.v1+cell": {
     "cellMetadata": {
      "byteLimit": 2048000,
      "rowLimit": 10000
     },
     "inputWidgets": {},
     "nuid": "51d46496-1c39-474f-a903-577909c52f5b",
     "showTitle": false,
     "title": ""
    }
   },
   "outputs": [
    {
     "data": {
      "text/html": [
       "<style scoped>\n",
       "  .table-result-container {\n",
       "    max-height: 300px;\n",
       "    overflow: auto;\n",
       "  }\n",
       "  table, th, td {\n",
       "    border: 1px solid black;\n",
       "    border-collapse: collapse;\n",
       "  }\n",
       "  th, td {\n",
       "    padding: 5px;\n",
       "  }\n",
       "  th {\n",
       "    text-align: left;\n",
       "  }\n",
       "</style><div class='table-result-container'><table class='table-result'><thead style='background-color: white'><tr><th>business_id</th><th>cool</th><th>funny</th><th>review_id</th><th>text</th><th>useful</th><th>user_id</th><th>date</th></tr></thead><tbody><tr><td>G_zuuYzVYI6_Yw34cdq_NA</td><td>2</td><td>8</td><td>KCDme8YF5O221g4rTIBdKw</td><td>the following review contains 0% exaggeration:\r\n",
       "\r\n",
       "i once waited 40 minutes for a cup of coffee. this place sucks. the decor is frigid and weird, they have weird things going on (they try to sell you all kinds of stuff like used cd's), they are obviously really self-important because everything has a really special \"grooveground\" label on it.... i just plain hate this place. and their service is so slow it's funny. they only have one person working at a time and this poor sucker has to make all this crazy stuff by himself. i've been there about 3 times and left pissed-off in each instance. their menu is ridiculous (really expensive desserts, mocktails, souffles) and everything is overpriced. also, they do not have soymilk (i believe it's on the menu, but they don't have any). i am never going to grooveground again even though it's within 4 blocks of my home.</td><td>6</td><td>X5EAMkKCHTpmso9ILIFRUg</td><td>2024-06-18 18:20:25</td></tr><tr><td>KMF17foSqysDXLZKpiPj9A</td><td>1</td><td>0</td><td>7RP8YhlhQ7g0I19i3YAQgQ</td><td>One fo the best places to get your dance on in my opinion.  Cover can range from free-$10.  So where do I start? There are essentially 5 levels to this place. Dancing goes on all 4 but the most happening spots are on the 1st and 4th to get your groove on. The 2nd level is more like a mezzanine where you can gaze down on all the pple getting down. 3rd floor is for VIP and you can look up through the part of the clear dance floor on the 4th level (ladies beware unless you're wanting to show off your goods).  4th level has a much larger dance area, but is ALWAYS still packed!  5th level is the rooftop and a great escape from the crowds or to catch some fresh air.  Great view of the strip too.  Usually has a live band playing more mellow music.\n",
       "Update: Wah! Guess I'm a ghetto girl since its one of my more preferred places to do some booty dancing</td><td>3</td><td>TDXV6AC5PYOZEyN9eeODfA</td><td>2024-06-18 18:24:38</td></tr><tr><td>KbSpEQ_54ovgNxOoxKP79g</td><td>1</td><td>4</td><td>YRA3s4bWz_VyirszGvLpvA</td><td>this place stinks like medicine. i don't know what it is, but it has smelled that way for YEARS. what the fuck is it?!\r\n",
       "\r\n",
       "this is the most highbrow grocery store in the area. like total fance \"gourmet\" foods. but they have a few good things going for them:\r\n",
       "\r\n",
       "deli- you can make a sandwich that is pretty fucking fly\r\n",
       "pizza shop- they make a good slice\r\n",
       "cokes- good cokes from the fountain in a wax cup, none of that bullshit throw-away plastic novelty shit\r\n",
       "coffee- pretty rad coffee for good price\r\n",
       "hot sauce- has one of the better selections of hot sauces in town.. mostly gimmick stuff though\r\n",
       "fruit- way cheaper than food co-op for a banana\r\n",
       "\r\n",
       "still, the stink ruins it. that and the total foofery.</td><td>3</td><td>CXCvnCfAvkLpFRiqsp26gw</td><td>2024-06-18 18:20:25</td></tr><tr><td>aJV-u_8zf5vVIaHy7Hs8qw</td><td>2</td><td>0</td><td>64ypOhlV9Nu3WYwSNXAJAg</td><td>Not sure about the previous review's \"vegetarian\" statement, but Chloe is definitely delicious.  It's a cute little BYOB.  We had the special appetizer, an amazing gnocchi dish with a meat sauce (lamb, beef, and something else?) that exploded with flavor.  The halibut was good and plentiful, served on delicious heirloom tomatoes with micro-arugala.  Our other dish was goat cheese/ricotta ravioli with edamame, toasted, pine nuts, and mushrooms.  It was a rich dish.  Dessert was a berry cobbler. The berries were yummy, but the vanilla ice cream stole the show!  I can't believe I forgot to ask if they made it or if I could buy that brand somewhere!</td><td>5</td><td>gfQqQYI5_hCAGEHlHXIz2Q</td><td>2024-06-18 18:20:25</td></tr><tr><td>KC8_Rx4Orlsz8LIonCYXsA</td><td>1</td><td>0</td><td>MOZ4DMaS5ZqxZ9IQ9Lo9lg</td><td>Every time I go up to Santa Barbara to go walking on State Street (and no, not as in \"street-walking\" lol...more like shop-perusing!)...I make a stop at the Santa Barbara Brewing Company.\n",
       "\n",
       "During the fall especially, since there seems to be so many more sporting events on TV...this place rocks.  Plenty of BIG screens and TV's showing a vast array of stuff for your viewing pleasure.\n",
       "\n",
       "They bre their own beer on site...the Blonde, Hef, IPA, Red and Stout are their poular ones...and you can get a little sampler of 8 if you can't make up your mind!!\n",
       "\n",
       "DEFINITELY order yourself a side of their garlic and rosemary fries with the side of ranch...you and your tummy will thank me later.  (Your loved ones however, might not!)</td><td>1</td><td>Mh7oEIX2oHYAXm-HAxlfWw</td><td>2024-06-18 18:24:38</td></tr><tr><td>1bwH4tcKRvVjHdOESRI21A</td><td>0</td><td>0</td><td>b8IfElVtPhe6aKN-mbnvPA</td><td>So I remember when this place used to be a beautiful restaurant, even if the food wasn't always teh greatest.  Then they turned the main entry into a Sam Ash *sniff*  Luckily the Main portion of the place has been converted into a special events venue for weddings, private parties, and proms :)  The gardens are very beautiful and from the looks of it, they're restoring thigns bit by bit.  Where to start? Its got greek styling written all over it with Roman columns, statues and greenery/ grape motifs flowing everywhere. There is just so much for me to say, but my favorite room is the Grand Ballroom with the double staircase its gorgeous and opulent WOOT. Several rooms are available for use.</td><td>8</td><td>TDXV6AC5PYOZEyN9eeODfA</td><td>2024-06-18 18:24:38</td></tr><tr><td>4BbzHEVKSHuctibot056og</td><td>6</td><td>4</td><td>dcs12orLETof-NRR493MWg</td><td>I will respond to two interesting reviews of this city with my own celebration of its mediocrity and hope to inspire others to help me make it better here.\n",
       "\n",
       "The most common praise I hear from people new to Tucson is that the weather is great and they like the sight of the mountains.  Even though this is probably just a say-something-nice-or-dont-say-anything-at-all, the weather is actually convenient, you can do things outside on any day of the year, and there are mountains and therefore parks, trails, etc in every direction.  It's a myth that it's too hot to do things outside in the summer in AZ.  Other places are hotter.\n",
       "\n",
       "There's the U of A here, which makes things better, and a nearly unlimited diversity in types of places to eat, buy crap, hang out, get drunk, be offended, etc.\n",
       "\n",
       "As a vacation spot Tucson is one of the best places to chill without a beach, especially if you are really old and like to golf, and has some very nice resorts.  The only really important tourist stop is the desert museum, which is not like the museums you're thinking of.\n",
       "\n",
       "The one complaint I get most often from people visiting or who have recently moved is that the people at bars are not friendly and even sometimes rude.  Tucson, what's your problem?  -1 star  I also get a lot of complaints that there is a lack of a young professional population which is very true.</td><td>10</td><td>3MYdpmHeNwC6FquRWi3YOg</td><td>2024-06-18 18:20:07</td></tr><tr><td>56p17O_bHVEPBh4m41JAsA</td><td>1</td><td>0</td><td>ud72evTWEP4UdaHn_jwUOQ</td><td>Abby & Katie opened this nice, airy boutique about a year ago. They hand make all of their clothing on site, and it is really cute stuff! Their jackets are beautifully tailored, their pants are flattering and comfortable, and their tops are just plain hot! It always feels great to buy from a local business, but it feels even better to buy a bunch of hand made, well designed clothes from such sweet ladies!</td><td>3</td><td>NvAZqXjqOJKcIWFRPiQQbA</td><td>2024-06-18 18:20:07</td></tr><tr><td>TBMgB0UPL5uREaaP-aMcTw</td><td>0</td><td>2</td><td>mBv3xgrrhb8KwuI2jUOcwA</td><td>They're not digital yet so the turn around can be anywhere from  7 to 10 days, if you're lucky. You are able to see your photos right after the photoshoot on the computer but you've still gotta wait a week or 2. Their sheets and portrait packages are cheap, if you remembered to print out your coupons. Their backgrounds are very basic, and even boring compared to what the other digital studios now offer. But the photo quality seems to be nicer than the digital ones.</td><td>0</td><td>2Vo3vUGZx-l8Xo3PbGlLsQ</td><td>2024-06-18 18:20:07</td></tr><tr><td>98DnF2ojux72xSx_NpmrbA</td><td>0</td><td>1</td><td>xaaTlVYNBxYkeymDdALwBQ</td><td>Spanish restaurant that's been an establishment in the area as far back as I can remember.  The atmosphere is very lively and bustling but romantic.  I am in love with their chicken and yellow rice and their Pompano Palillote Almendrina.  That's a Filet of Pompano w/ house stuffing cooked in a parchement bag.  ITs so good!! I prefer this version over the one they sell at Columbia. \n",
       "Good Sangria made by a recipe they used in their family restaurant in Madrid. Dessert menu has a great selection and really yummy!  This place is kinda pricey tho, so not for every day dining.</td><td>0</td><td>TDXV6AC5PYOZEyN9eeODfA</td><td>2024-06-18 18:24:39</td></tr><tr><td>-nC9g_6S8kPXFNyee315hA</td><td>0</td><td>0</td><td>k6XVXHHS17NW8nGrvL5Qhg</td><td>Love this place, especially for breakfast or brunch. Nestled in the cute l'il downtown area of Dunedin, this place is located across the street from Kelly's for just about anything.  Also located right off the path of the Pinellas Trail.  I usualyl wind up dining in the sunroom area that's totally airconditioned so you're not uncomfortable.  Has a great bistro/cafe feel to it.  Food is excellent and I'm never disappointed.  Staff is also very friendly, but watch out for the crowds during peak dining times.</td><td>3</td><td>TDXV6AC5PYOZEyN9eeODfA</td><td>2024-06-18 18:24:39</td></tr><tr><td>qnlOrV_z5PUUcW6BI3omeA</td><td>1</td><td>1</td><td>lVpUOd9lrSgwQvmQaq542A</td><td>BEST MARGHERITA PIZZA EVER!!!!!!!! this stuff is unbelieveable. also, their \"normal\" pizza is great too. everything i've had there is great, but seriously, the margherita pizza is so good that you literally cannot stop yelling about how good it is that whole time you're eating it. but beware - it has very little cheese on it... i usually ask for extra cheese, which still leaves it mostly cheese-less.\n",
       "great for pick-up or eat-in, friendly service, parking is a little tough.</td><td>3</td><td>X5EAMkKCHTpmso9ILIFRUg</td><td>2024-06-18 18:20:07</td></tr><tr><td>LizaSXXtaPjbxGtwo_rw9Q</td><td>1</td><td>0</td><td>eVOOALWLlPQgR_EUESb6eA</td><td>I'll differ with another reviewer on this one.  A small, comfortable BYO just off South Street, Gnocchi has good basic northern Italian food.  The frito misto appetizer is more than enough for two, with perfectly fried seafood, including calamari and shrimp.  The trademark gnocchi is ethereal and is served as a side or as a main dish.  The only caution is the veal, which could be of better quality; have the same dishes with chicken and you won't be disappointed.</td><td>1</td><td>PifSfXxEUKOoYg-gJ4cjUQ</td><td>2024-06-18 18:20:07</td></tr><tr><td>G_zuuYzVYI6_Yw34cdq_NA</td><td>1</td><td>2</td><td>EVplNLoSgEkKfk_2uoXDFQ</td><td>I too have walked in to find NO ONE around; not even staff.  It's an alternative to Christian open mic night at a nearby coffee house (sorry, that's not my scene), but not a place I'd make a point to visit.  The prices were a bit high, if I recall.  If I'm taking the speedline and want coffee on the way, I'll go to WaWa across the street.  I've only actually ordered there once. They don't always follow their posted hours, so I've missed out on other visits.</td><td>4</td><td>gfQqQYI5_hCAGEHlHXIz2Q</td><td>2024-06-18 18:20:26</td></tr><tr><td>dvph41fD_t6Kd_ChSpmNSA</td><td>1</td><td>0</td><td>k3svrVNOBcDTT6wDStOSYQ</td><td>What a beautiful building! I don't know the full history behind the building - maybe it was a bank?? - but it epitomizes luxury and class. My mom was staying for a conference and I joined her for a night in Philly. The gorgeous rotunda lobby and elegant staircases make it a great place to hold a very special event. I saw at least 2 brides there. And as to be expected, the staff went above and beyond for service to the guests. A once in a lifetime stay!</td><td>2</td><td>5aQGcCvs3FwBXOKDmF3VHw</td><td>2024-06-18 18:24:38</td></tr><tr><td>gfcE2TVd31-guoRpWE6TMg</td><td>1</td><td>0</td><td>N2imS5odiIctHVaUpzqVHA</td><td>Pretty good restaurant for american fare.  True to the name, the decor inside is reminiscent of an old school house.  Specials are written on a large chalk board over a booth across from the board with the alphabet spraweled over that.  Love that they have sweet potato fries on the menu - but make sure to ask for a side of honey too :)\n",
       "Prices are fairly reasonable if not ever so slightly on the high side.</td><td>0</td><td>TDXV6AC5PYOZEyN9eeODfA</td><td>2024-06-18 18:24:38</td></tr><tr><td>9SqhTgh-8y-pYVfJTA5itg</td><td>1</td><td>0</td><td>0jLyg0BfXT5TW7Clo5mXaA</td><td>I was pleasantly surprised.  I enjoyed my \"large salad.\"  The greens were fresh, and the chicken was delicious.  It was on the side, which is how I prefer it.  We went for lunch, so the drinks were cheap (happy hour til 7, I believe).  My cousin didn't like her salad and left it.  So the verdict is split.  The cost wasn't bad, and if you are stuck in Old City for lunch it's not bad option.</td><td>3</td><td>gfQqQYI5_hCAGEHlHXIz2Q</td><td>2024-06-18 18:20:25</td></tr><tr><td>m7aqXB_NjAFBP6-nT65bjQ</td><td>0</td><td>0</td><td>pZZ01_0sFwtG7iFd4K9dpg</td><td>It is out in the middle of no where on Hwy 395.  Inside a large rustic wood building.  Good size room of penny candies in barrels, home made fudge behind a glass counter and homemade chocolates and brittle, packaged in cellaphone on tables in the middle of the room.   Around $12 a pound.  Tons of candy and homemade too.</td><td>0</td><td>fdwVdy6TuY1kjYeEPMZKVw</td><td>2024-06-18 18:24:38</td></tr><tr><td>9PZxjhTIU7OgPIzuGi89Ew</td><td>0</td><td>0</td><td>QKtubSkM6WCbs7jpJZp-fg</td><td>I had heard about this place and Starr's other restaurants, but I was very disappointed by El Vez. The food tasted like anything you could get at Chi Chi's but cost 3 times as much. The drinks were strong and the best part of the evening was watching my mom get tipsy off of one large margarita.</td><td>1</td><td>5aQGcCvs3FwBXOKDmF3VHw</td><td>2024-06-18 18:24:38</td></tr><tr><td>Iy0CmHZ16A_XCw2nST-Fsg</td><td>4</td><td>0</td><td>aB9YGhIxttMMPWQwtN_hDA</td><td>The wall of candles is beautiful. where the whole restaurant seems lit with only candle like. Beautiful long drapes from the ceiling. The food is amazing. Would recommend the chopped med. salad and the pork chops. You can never go wrong with a Stephen Starr restaurant.</td><td>4</td><td>KWC-0FbEFlUBU7YHC0DA6w</td><td>2024-06-18 18:24:38</td></tr><tr><td>ZQ60m8H2E2L7_mBku52qkQ</td><td>0</td><td>0</td><td>7EczW7So8n1Q9by_CM8DHA</td><td>I love the Orpheum for my Emo/Indie fix. Saturday nights are the bestest if you drink.  21+ only, $10 cover charge, but you drink free all night! Love the acts that come through here - my first being Rilo Kiley! woot!  Love the brit pop they play some times too.</td><td>0</td><td>TDXV6AC5PYOZEyN9eeODfA</td><td>2024-06-18 18:24:38</td></tr><tr><td>hDr_bt6MEwlGvGCCKzyzhg</td><td>0</td><td>0</td><td>36tquDl9uy98DeI6dv1DUw</td><td>I just moved into town and tried this coffee shop. It seems really cool! Great atmosphere and AWESOME sandwiches, best in town! The cappuccino needed a bit of work though. Overall, pretty cool.</td><td>2</td><td>1m0JBs3MEsoi2t14NoVerw</td><td>2024-06-18 18:20:25</td></tr><tr><td>xicrRwfMBkDfQlFaGoyC5g</td><td>2</td><td>1</td><td>2KZvEA6Xdh2uAJ5hClU78Q</td><td>this place is great.  the food is fresh, the service is punctual, and the decor is exceptional.\n",
       "\n",
       "i would recommend this place for a family dinner.</td><td>3</td><td>tiLm3eFfpxhwV6O9DEaneQ</td><td>2024-06-18 18:20:07</td></tr></tbody></table></div>"
      ]
     },
     "metadata": {
      "application/vnd.databricks.v1+output": {
       "addedWidgets": {},
       "aggData": [],
       "aggError": "",
       "aggOverflow": false,
       "aggSchema": [],
       "aggSeriesLimitReached": false,
       "aggType": "",
       "arguments": {},
       "columnCustomDisplayInfos": {},
       "data": [
        [
         "G_zuuYzVYI6_Yw34cdq_NA",
         2,
         8,
         "KCDme8YF5O221g4rTIBdKw",
         "the following review contains 0% exaggeration:\r\n\r\ni once waited 40 minutes for a cup of coffee. this place sucks. the decor is frigid and weird, they have weird things going on (they try to sell you all kinds of stuff like used cd's), they are obviously really self-important because everything has a really special \"grooveground\" label on it.... i just plain hate this place. and their service is so slow it's funny. they only have one person working at a time and this poor sucker has to make all this crazy stuff by himself. i've been there about 3 times and left pissed-off in each instance. their menu is ridiculous (really expensive desserts, mocktails, souffles) and everything is overpriced. also, they do not have soymilk (i believe it's on the menu, but they don't have any). i am never going to grooveground again even though it's within 4 blocks of my home.",
         6,
         "X5EAMkKCHTpmso9ILIFRUg",
         "2024-06-18 18:20:25"
        ],
        [
         "KMF17foSqysDXLZKpiPj9A",
         1,
         0,
         "7RP8YhlhQ7g0I19i3YAQgQ",
         "One fo the best places to get your dance on in my opinion.  Cover can range from free-$10.  So where do I start? There are essentially 5 levels to this place. Dancing goes on all 4 but the most happening spots are on the 1st and 4th to get your groove on. The 2nd level is more like a mezzanine where you can gaze down on all the pple getting down. 3rd floor is for VIP and you can look up through the part of the clear dance floor on the 4th level (ladies beware unless you're wanting to show off your goods).  4th level has a much larger dance area, but is ALWAYS still packed!  5th level is the rooftop and a great escape from the crowds or to catch some fresh air.  Great view of the strip too.  Usually has a live band playing more mellow music.\nUpdate: Wah! Guess I'm a ghetto girl since its one of my more preferred places to do some booty dancing",
         3,
         "TDXV6AC5PYOZEyN9eeODfA",
         "2024-06-18 18:24:38"
        ],
        [
         "KbSpEQ_54ovgNxOoxKP79g",
         1,
         4,
         "YRA3s4bWz_VyirszGvLpvA",
         "this place stinks like medicine. i don't know what it is, but it has smelled that way for YEARS. what the fuck is it?!\r\n\r\nthis is the most highbrow grocery store in the area. like total fance \"gourmet\" foods. but they have a few good things going for them:\r\n\r\ndeli- you can make a sandwich that is pretty fucking fly\r\npizza shop- they make a good slice\r\ncokes- good cokes from the fountain in a wax cup, none of that bullshit throw-away plastic novelty shit\r\ncoffee- pretty rad coffee for good price\r\nhot sauce- has one of the better selections of hot sauces in town.. mostly gimmick stuff though\r\nfruit- way cheaper than food co-op for a banana\r\n\r\nstill, the stink ruins it. that and the total foofery.",
         3,
         "CXCvnCfAvkLpFRiqsp26gw",
         "2024-06-18 18:20:25"
        ],
        [
         "aJV-u_8zf5vVIaHy7Hs8qw",
         2,
         0,
         "64ypOhlV9Nu3WYwSNXAJAg",
         "Not sure about the previous review's \"vegetarian\" statement, but Chloe is definitely delicious.  It's a cute little BYOB.  We had the special appetizer, an amazing gnocchi dish with a meat sauce (lamb, beef, and something else?) that exploded with flavor.  The halibut was good and plentiful, served on delicious heirloom tomatoes with micro-arugala.  Our other dish was goat cheese/ricotta ravioli with edamame, toasted, pine nuts, and mushrooms.  It was a rich dish.  Dessert was a berry cobbler. The berries were yummy, but the vanilla ice cream stole the show!  I can't believe I forgot to ask if they made it or if I could buy that brand somewhere!",
         5,
         "gfQqQYI5_hCAGEHlHXIz2Q",
         "2024-06-18 18:20:25"
        ],
        [
         "KC8_Rx4Orlsz8LIonCYXsA",
         1,
         0,
         "MOZ4DMaS5ZqxZ9IQ9Lo9lg",
         "Every time I go up to Santa Barbara to go walking on State Street (and no, not as in \"street-walking\" lol...more like shop-perusing!)...I make a stop at the Santa Barbara Brewing Company.\n\nDuring the fall especially, since there seems to be so many more sporting events on TV...this place rocks.  Plenty of BIG screens and TV's showing a vast array of stuff for your viewing pleasure.\n\nThey bre their own beer on site...the Blonde, Hef, IPA, Red and Stout are their poular ones...and you can get a little sampler of 8 if you can't make up your mind!!\n\nDEFINITELY order yourself a side of their garlic and rosemary fries with the side of ranch...you and your tummy will thank me later.  (Your loved ones however, might not!)",
         1,
         "Mh7oEIX2oHYAXm-HAxlfWw",
         "2024-06-18 18:24:38"
        ],
        [
         "1bwH4tcKRvVjHdOESRI21A",
         0,
         0,
         "b8IfElVtPhe6aKN-mbnvPA",
         "So I remember when this place used to be a beautiful restaurant, even if the food wasn't always teh greatest.  Then they turned the main entry into a Sam Ash *sniff*  Luckily the Main portion of the place has been converted into a special events venue for weddings, private parties, and proms :)  The gardens are very beautiful and from the looks of it, they're restoring thigns bit by bit.  Where to start? Its got greek styling written all over it with Roman columns, statues and greenery/ grape motifs flowing everywhere. There is just so much for me to say, but my favorite room is the Grand Ballroom with the double staircase its gorgeous and opulent WOOT. Several rooms are available for use.",
         8,
         "TDXV6AC5PYOZEyN9eeODfA",
         "2024-06-18 18:24:38"
        ],
        [
         "4BbzHEVKSHuctibot056og",
         6,
         4,
         "dcs12orLETof-NRR493MWg",
         "I will respond to two interesting reviews of this city with my own celebration of its mediocrity and hope to inspire others to help me make it better here.\n\nThe most common praise I hear from people new to Tucson is that the weather is great and they like the sight of the mountains.  Even though this is probably just a say-something-nice-or-dont-say-anything-at-all, the weather is actually convenient, you can do things outside on any day of the year, and there are mountains and therefore parks, trails, etc in every direction.  It's a myth that it's too hot to do things outside in the summer in AZ.  Other places are hotter.\n\nThere's the U of A here, which makes things better, and a nearly unlimited diversity in types of places to eat, buy crap, hang out, get drunk, be offended, etc.\n\nAs a vacation spot Tucson is one of the best places to chill without a beach, especially if you are really old and like to golf, and has some very nice resorts.  The only really important tourist stop is the desert museum, which is not like the museums you're thinking of.\n\nThe one complaint I get most often from people visiting or who have recently moved is that the people at bars are not friendly and even sometimes rude.  Tucson, what's your problem?  -1 star  I also get a lot of complaints that there is a lack of a young professional population which is very true.",
         10,
         "3MYdpmHeNwC6FquRWi3YOg",
         "2024-06-18 18:20:07"
        ],
        [
         "56p17O_bHVEPBh4m41JAsA",
         1,
         0,
         "ud72evTWEP4UdaHn_jwUOQ",
         "Abby & Katie opened this nice, airy boutique about a year ago. They hand make all of their clothing on site, and it is really cute stuff! Their jackets are beautifully tailored, their pants are flattering and comfortable, and their tops are just plain hot! It always feels great to buy from a local business, but it feels even better to buy a bunch of hand made, well designed clothes from such sweet ladies!",
         3,
         "NvAZqXjqOJKcIWFRPiQQbA",
         "2024-06-18 18:20:07"
        ],
        [
         "TBMgB0UPL5uREaaP-aMcTw",
         0,
         2,
         "mBv3xgrrhb8KwuI2jUOcwA",
         "They're not digital yet so the turn around can be anywhere from  7 to 10 days, if you're lucky. You are able to see your photos right after the photoshoot on the computer but you've still gotta wait a week or 2. Their sheets and portrait packages are cheap, if you remembered to print out your coupons. Their backgrounds are very basic, and even boring compared to what the other digital studios now offer. But the photo quality seems to be nicer than the digital ones.",
         0,
         "2Vo3vUGZx-l8Xo3PbGlLsQ",
         "2024-06-18 18:20:07"
        ],
        [
         "98DnF2ojux72xSx_NpmrbA",
         0,
         1,
         "xaaTlVYNBxYkeymDdALwBQ",
         "Spanish restaurant that's been an establishment in the area as far back as I can remember.  The atmosphere is very lively and bustling but romantic.  I am in love with their chicken and yellow rice and their Pompano Palillote Almendrina.  That's a Filet of Pompano w/ house stuffing cooked in a parchement bag.  ITs so good!! I prefer this version over the one they sell at Columbia. \nGood Sangria made by a recipe they used in their family restaurant in Madrid. Dessert menu has a great selection and really yummy!  This place is kinda pricey tho, so not for every day dining.",
         0,
         "TDXV6AC5PYOZEyN9eeODfA",
         "2024-06-18 18:24:39"
        ],
        [
         "-nC9g_6S8kPXFNyee315hA",
         0,
         0,
         "k6XVXHHS17NW8nGrvL5Qhg",
         "Love this place, especially for breakfast or brunch. Nestled in the cute l'il downtown area of Dunedin, this place is located across the street from Kelly's for just about anything.  Also located right off the path of the Pinellas Trail.  I usualyl wind up dining in the sunroom area that's totally airconditioned so you're not uncomfortable.  Has a great bistro/cafe feel to it.  Food is excellent and I'm never disappointed.  Staff is also very friendly, but watch out for the crowds during peak dining times.",
         3,
         "TDXV6AC5PYOZEyN9eeODfA",
         "2024-06-18 18:24:39"
        ],
        [
         "qnlOrV_z5PUUcW6BI3omeA",
         1,
         1,
         "lVpUOd9lrSgwQvmQaq542A",
         "BEST MARGHERITA PIZZA EVER!!!!!!!! this stuff is unbelieveable. also, their \"normal\" pizza is great too. everything i've had there is great, but seriously, the margherita pizza is so good that you literally cannot stop yelling about how good it is that whole time you're eating it. but beware - it has very little cheese on it... i usually ask for extra cheese, which still leaves it mostly cheese-less.\ngreat for pick-up or eat-in, friendly service, parking is a little tough.",
         3,
         "X5EAMkKCHTpmso9ILIFRUg",
         "2024-06-18 18:20:07"
        ],
        [
         "LizaSXXtaPjbxGtwo_rw9Q",
         1,
         0,
         "eVOOALWLlPQgR_EUESb6eA",
         "I'll differ with another reviewer on this one.  A small, comfortable BYO just off South Street, Gnocchi has good basic northern Italian food.  The frito misto appetizer is more than enough for two, with perfectly fried seafood, including calamari and shrimp.  The trademark gnocchi is ethereal and is served as a side or as a main dish.  The only caution is the veal, which could be of better quality; have the same dishes with chicken and you won't be disappointed.",
         1,
         "PifSfXxEUKOoYg-gJ4cjUQ",
         "2024-06-18 18:20:07"
        ],
        [
         "G_zuuYzVYI6_Yw34cdq_NA",
         1,
         2,
         "EVplNLoSgEkKfk_2uoXDFQ",
         "I too have walked in to find NO ONE around; not even staff.  It's an alternative to Christian open mic night at a nearby coffee house (sorry, that's not my scene), but not a place I'd make a point to visit.  The prices were a bit high, if I recall.  If I'm taking the speedline and want coffee on the way, I'll go to WaWa across the street.  I've only actually ordered there once. They don't always follow their posted hours, so I've missed out on other visits.",
         4,
         "gfQqQYI5_hCAGEHlHXIz2Q",
         "2024-06-18 18:20:26"
        ],
        [
         "dvph41fD_t6Kd_ChSpmNSA",
         1,
         0,
         "k3svrVNOBcDTT6wDStOSYQ",
         "What a beautiful building! I don't know the full history behind the building - maybe it was a bank?? - but it epitomizes luxury and class. My mom was staying for a conference and I joined her for a night in Philly. The gorgeous rotunda lobby and elegant staircases make it a great place to hold a very special event. I saw at least 2 brides there. And as to be expected, the staff went above and beyond for service to the guests. A once in a lifetime stay!",
         2,
         "5aQGcCvs3FwBXOKDmF3VHw",
         "2024-06-18 18:24:38"
        ],
        [
         "gfcE2TVd31-guoRpWE6TMg",
         1,
         0,
         "N2imS5odiIctHVaUpzqVHA",
         "Pretty good restaurant for american fare.  True to the name, the decor inside is reminiscent of an old school house.  Specials are written on a large chalk board over a booth across from the board with the alphabet spraweled over that.  Love that they have sweet potato fries on the menu - but make sure to ask for a side of honey too :)\nPrices are fairly reasonable if not ever so slightly on the high side.",
         0,
         "TDXV6AC5PYOZEyN9eeODfA",
         "2024-06-18 18:24:38"
        ],
        [
         "9SqhTgh-8y-pYVfJTA5itg",
         1,
         0,
         "0jLyg0BfXT5TW7Clo5mXaA",
         "I was pleasantly surprised.  I enjoyed my \"large salad.\"  The greens were fresh, and the chicken was delicious.  It was on the side, which is how I prefer it.  We went for lunch, so the drinks were cheap (happy hour til 7, I believe).  My cousin didn't like her salad and left it.  So the verdict is split.  The cost wasn't bad, and if you are stuck in Old City for lunch it's not bad option.",
         3,
         "gfQqQYI5_hCAGEHlHXIz2Q",
         "2024-06-18 18:20:25"
        ],
        [
         "m7aqXB_NjAFBP6-nT65bjQ",
         0,
         0,
         "pZZ01_0sFwtG7iFd4K9dpg",
         "It is out in the middle of no where on Hwy 395.  Inside a large rustic wood building.  Good size room of penny candies in barrels, home made fudge behind a glass counter and homemade chocolates and brittle, packaged in cellaphone on tables in the middle of the room.   Around $12 a pound.  Tons of candy and homemade too.",
         0,
         "fdwVdy6TuY1kjYeEPMZKVw",
         "2024-06-18 18:24:38"
        ],
        [
         "9PZxjhTIU7OgPIzuGi89Ew",
         0,
         0,
         "QKtubSkM6WCbs7jpJZp-fg",
         "I had heard about this place and Starr's other restaurants, but I was very disappointed by El Vez. The food tasted like anything you could get at Chi Chi's but cost 3 times as much. The drinks were strong and the best part of the evening was watching my mom get tipsy off of one large margarita.",
         1,
         "5aQGcCvs3FwBXOKDmF3VHw",
         "2024-06-18 18:24:38"
        ],
        [
         "Iy0CmHZ16A_XCw2nST-Fsg",
         4,
         0,
         "aB9YGhIxttMMPWQwtN_hDA",
         "The wall of candles is beautiful. where the whole restaurant seems lit with only candle like. Beautiful long drapes from the ceiling. The food is amazing. Would recommend the chopped med. salad and the pork chops. You can never go wrong with a Stephen Starr restaurant.",
         4,
         "KWC-0FbEFlUBU7YHC0DA6w",
         "2024-06-18 18:24:38"
        ],
        [
         "ZQ60m8H2E2L7_mBku52qkQ",
         0,
         0,
         "7EczW7So8n1Q9by_CM8DHA",
         "I love the Orpheum for my Emo/Indie fix. Saturday nights are the bestest if you drink.  21+ only, $10 cover charge, but you drink free all night! Love the acts that come through here - my first being Rilo Kiley! woot!  Love the brit pop they play some times too.",
         0,
         "TDXV6AC5PYOZEyN9eeODfA",
         "2024-06-18 18:24:38"
        ],
        [
         "hDr_bt6MEwlGvGCCKzyzhg",
         0,
         0,
         "36tquDl9uy98DeI6dv1DUw",
         "I just moved into town and tried this coffee shop. It seems really cool! Great atmosphere and AWESOME sandwiches, best in town! The cappuccino needed a bit of work though. Overall, pretty cool.",
         2,
         "1m0JBs3MEsoi2t14NoVerw",
         "2024-06-18 18:20:25"
        ],
        [
         "xicrRwfMBkDfQlFaGoyC5g",
         2,
         1,
         "2KZvEA6Xdh2uAJ5hClU78Q",
         "this place is great.  the food is fresh, the service is punctual, and the decor is exceptional.\n\ni would recommend this place for a family dinner.",
         3,
         "tiLm3eFfpxhwV6O9DEaneQ",
         "2024-06-18 18:20:07"
        ]
       ],
       "datasetInfos": [],
       "dbfsResultPath": null,
       "isJsonSchema": true,
       "metadata": {},
       "overflow": false,
       "plotOptions": {
        "customPlotOptions": {},
        "displayType": "table",
        "pivotAggregation": null,
        "pivotColumns": null,
        "xColumns": null,
        "yColumns": null
       },
       "removedWidgets": [],
       "schema": [
        {
         "metadata": "{}",
         "name": "business_id",
         "type": "\"string\""
        },
        {
         "metadata": "{}",
         "name": "cool",
         "type": "\"long\""
        },
        {
         "metadata": "{}",
         "name": "funny",
         "type": "\"long\""
        },
        {
         "metadata": "{}",
         "name": "review_id",
         "type": "\"string\""
        },
        {
         "metadata": "{}",
         "name": "text",
         "type": "\"string\""
        },
        {
         "metadata": "{}",
         "name": "useful",
         "type": "\"long\""
        },
        {
         "metadata": "{}",
         "name": "user_id",
         "type": "\"string\""
        },
        {
         "metadata": "{}",
         "name": "date",
         "type": "\"string\""
        }
       ],
       "type": "table"
      }
     },
     "output_type": "display_data"
    }
   ],
   "source": [
    "display(reviews)"
   ]
  },
  {
   "cell_type": "markdown",
   "metadata": {
    "application/vnd.databricks.v1+cell": {
     "cellMetadata": {},
     "inputWidgets": {},
     "nuid": "851b5af0-89cb-4549-9388-c2450e39b050",
     "showTitle": false,
     "title": ""
    }
   },
   "source": [
    "#### 1.4 Run model to predict lables"
   ]
  },
  {
   "cell_type": "code",
   "execution_count": null,
   "metadata": {
    "application/vnd.databricks.v1+cell": {
     "cellMetadata": {
      "byteLimit": 2048000,
      "rowLimit": 10000
     },
     "inputWidgets": {},
     "nuid": "fea13897-0bb7-4896-af18-e8fca83b9de6",
     "showTitle": false,
     "title": ""
    }
   },
   "outputs": [
    {
     "data": {
      "text/html": [
       "<style scoped>\n",
       "  .table-result-container {\n",
       "    max-height: 300px;\n",
       "    overflow: auto;\n",
       "  }\n",
       "  table, th, td {\n",
       "    border: 1px solid black;\n",
       "    border-collapse: collapse;\n",
       "  }\n",
       "  th, td {\n",
       "    padding: 5px;\n",
       "  }\n",
       "  th {\n",
       "    text-align: left;\n",
       "  }\n",
       "</style><div class='table-result-container'><table class='table-result'><thead style='background-color: white'><tr><th>text</th><th>prediction</th><th>decoded</th></tr></thead><tbody><tr><td>the following review contains exaggeration i once waited minutes for a cup of coffee this place sucks the decor is frigid and weird they have weird things going on they try to sell you all kinds of stuff like used cds they are obviously really selfimportant because everything has a really special grooveground label on it i just plain hate this place and their service is so slow its funny they only have one person working at a time and this poor sucker has to make all this crazy stuff by himself ive been there about times and left pissedoff in each instance their menu is ridiculous really expensive desserts mocktails souffles and everything is overpriced also they do not have soymilk i believe its on the menu but they dont have any i am never going to grooveground again even though its within blocks of my home</td><td>2.0</td><td>1.0</td></tr><tr><td>one fo the best places to get your dance on in my opinion cover can range from free so where do i start there are essentially levels to this place dancing goes on all but the most happening spots are on the st and th to get your groove on the nd level is more like a mezzanine where you can gaze down on all the pple getting down rd floor is for vip and you can look up through the part of the clear dance floor on the th level ladies beware unless youre wanting to show off your goods th level has a much larger dance area but is always still packed th level is the rooftop and a great escape from the crowds or to catch some fresh air great view of the strip too usually has a live band playing more mellow music update wah guess im a ghetto girl since its one of my more preferred places to do some booty dancing</td><td>3.0</td><td>3.0</td></tr><tr><td>this place stinks like medicine i dont know what it is but it has smelled that way for years what the fuck is it this is the most highbrow grocery store in the area like total fance gourmet foods but they have a few good things going for them deli you can make a sandwich that is pretty fucking fly pizza shop they make a good slice cokes good cokes from the fountain in a wax cup none of that bullshit throwaway plastic novelty shit coffee pretty rad coffee for good price hot sauce has one of the better selections of hot sauces in town mostly gimmick stuff though fruit way cheaper than food coop for a banana still the stink ruins it that and the total foofery</td><td>3.0</td><td>3.0</td></tr><tr><td>not sure about the previous reviews vegetarian statement but chloe is definitely delicious its a cute little byob we had the special appetizer an amazing gnocchi dish with a meat sauce lamb beef and something else that exploded with flavor the halibut was good and plentiful served on delicious heirloom tomatoes with microarugala our other dish was goat cheesericotta ravioli with edamame toasted pine nuts and mushrooms it was a rich dish dessert was a berry cobbler the berries were yummy but the vanilla ice cream stole the show i cant believe i forgot to ask if they made it or if i could buy that brand somewhere</td><td>0.0</td><td>5.0</td></tr><tr><td>every time i go up to santa barbara to go walking on state street and no not as in streetwalking lolmore like shopperusingi make a stop at the santa barbara brewing company during the fall especially since there seems to be so many more sporting events on tvthis place rocks plenty of big screens and tvs showing a vast array of stuff for your viewing pleasure they bre their own beer on sitethe blonde hef ipa red and stout are their poular onesand you can get a little sampler of if you cant make up your mind definitely order yourself a side of their garlic and rosemary fries with the side of ranchyou and your tummy will thank me later your loved ones however might not</td><td>0.0</td><td>5.0</td></tr><tr><td>so i remember when this place used to be a beautiful restaurant even if the food wasnt always teh greatest then they turned the main entry into a sam ash sniff luckily the main portion of the place has been converted into a special events venue for weddings private parties and proms the gardens are very beautiful and from the looks of it theyre restoring thigns bit by bit where to start its got greek styling written all over it with roman columns statues and greenery grape motifs flowing everywhere there is just so much for me to say but my favorite room is the grand ballroom with the double staircase its gorgeous and opulent woot several rooms are available for use</td><td>0.0</td><td>5.0</td></tr><tr><td>i will respond to two interesting reviews of this city with my own celebration of its mediocrity and hope to inspire others to help me make it better here the most common praise i hear from people new to tucson is that the weather is great and they like the sight of the mountains even though this is probably just a saysomethingniceordontsayanythingatall the weather is actually convenient you can do things outside on any day of the year and there are mountains and therefore parks trails etc in every direction its a myth that its too hot to do things outside in the summer in az other places are hotter theres the u of a here which makes things better and a nearly unlimited diversity in types of places to eat buy crap hang out get drunk be offended etc as a vacation spot tucson is one of the best places to chill without a beach especially if you are really old and like to golf and has some very nice resorts the only really important tourist stop is the desert museum which is not like the museums youre thinking of the one complaint i get most often from people visiting or who have recently moved is that the people at bars are not friendly and even sometimes rude tucson whats your problem star i also get a lot of complaints that there is a lack of a young professional population which is very true</td><td>1.0</td><td>4.0</td></tr><tr><td>abby katie opened this nice airy boutique about a year ago they hand make all of their clothing on site and it is really cute stuff their jackets are beautifully tailored their pants are flattering and comfortable and their tops are just plain hot it always feels great to buy from a local business but it feels even better to buy a bunch of hand made well designed clothes from such sweet ladies</td><td>0.0</td><td>5.0</td></tr><tr><td>theyre not digital yet so the turn around can be anywhere from to days if youre lucky you are able to see your photos right after the photoshoot on the computer but youve still gotta wait a week or their sheets and portrait packages are cheap if you remembered to print out your coupons their backgrounds are very basic and even boring compared to what the other digital studios now offer but the photo quality seems to be nicer than the digital ones</td><td>0.0</td><td>5.0</td></tr><tr><td>spanish restaurant thats been an establishment in the area as far back as i can remember the atmosphere is very lively and bustling but romantic i am in love with their chicken and yellow rice and their pompano palillote almendrina thats a filet of pompano w house stuffing cooked in a parchement bag its so good i prefer this version over the one they sell at columbia good sangria made by a recipe they used in their family restaurant in madrid dessert menu has a great selection and really yummy this place is kinda pricey tho so not for every day dining</td><td>1.0</td><td>4.0</td></tr><tr><td>love this place especially for breakfast or brunch nestled in the cute lil downtown area of dunedin this place is located across the street from kellys for just about anything also located right off the path of the pinellas trail i usualyl wind up dining in the sunroom area thats totally airconditioned so youre not uncomfortable has a great bistrocafe feel to it food is excellent and im never disappointed staff is also very friendly but watch out for the crowds during peak dining times</td><td>0.0</td><td>5.0</td></tr><tr><td>best margherita pizza ever this stuff is unbelieveable also their normal pizza is great too everything ive had there is great but seriously the margherita pizza is so good that you literally cannot stop yelling about how good it is that whole time youre eating it but beware it has very little cheese on it i usually ask for extra cheese which still leaves it mostly cheeseless great for pickup or eatin friendly service parking is a little tough</td><td>1.0</td><td>4.0</td></tr><tr><td>ill differ with another reviewer on this one a small comfortable byo just off south street gnocchi has good basic northern italian food the frito misto appetizer is more than enough for two with perfectly fried seafood including calamari and shrimp the trademark gnocchi is ethereal and is served as a side or as a main dish the only caution is the veal which could be of better quality have the same dishes with chicken and you wont be disappointed</td><td>4.0</td><td>2.0</td></tr><tr><td>i too have walked in to find no one around not even staff its an alternative to christian open mic night at a nearby coffee house sorry thats not my scene but not a place id make a point to visit the prices were a bit high if i recall if im taking the speedline and want coffee on the way ill go to wawa across the street ive only actually ordered there once they dont always follow their posted hours so ive missed out on other visits</td><td>2.0</td><td>1.0</td></tr><tr><td>what a beautiful building i dont know the full history behind the building maybe it was a bank but it epitomizes luxury and class my mom was staying for a conference and i joined her for a night in philly the gorgeous rotunda lobby and elegant staircases make it a great place to hold a very special event i saw at least brides there and as to be expected the staff went above and beyond for service to the guests a once in a lifetime stay</td><td>0.0</td><td>5.0</td></tr><tr><td>pretty good restaurant for american fare true to the name the decor inside is reminiscent of an old school house specials are written on a large chalk board over a booth across from the board with the alphabet spraweled over that love that they have sweet potato fries on the menu but make sure to ask for a side of honey too prices are fairly reasonable if not ever so slightly on the high side</td><td>0.0</td><td>5.0</td></tr><tr><td>i was pleasantly surprised i enjoyed my large salad the greens were fresh and the chicken was delicious it was on the side which is how i prefer it we went for lunch so the drinks were cheap happy hour til i believe my cousin didnt like her salad and left it so the verdict is split the cost wasnt bad and if you are stuck in old city for lunch its not bad option</td><td>1.0</td><td>4.0</td></tr><tr><td>it is out in the middle of no where on hwy inside a large rustic wood building good size room of penny candies in barrels home made fudge behind a glass counter and homemade chocolates and brittle packaged in cellaphone on tables in the middle of the room around a pound tons of candy and homemade too</td><td>1.0</td><td>4.0</td></tr><tr><td>i had heard about this place and starrs other restaurants but i was very disappointed by el vez the food tasted like anything you could get at chi chis but cost times as much the drinks were strong and the best part of the evening was watching my mom get tipsy off of one large margarita</td><td>0.0</td><td>5.0</td></tr><tr><td>the wall of candles is beautiful where the whole restaurant seems lit with only candle like beautiful long drapes from the ceiling the food is amazing would recommend the chopped med salad and the pork chops you can never go wrong with a stephen starr restaurant</td><td>0.0</td><td>5.0</td></tr><tr><td>i love the orpheum for my emoindie fix saturday nights are the bestest if you drink only cover charge but you drink free all night love the acts that come through here my first being rilo kiley woot love the brit pop they play some times too</td><td>0.0</td><td>5.0</td></tr><tr><td>i just moved into town and tried this coffee shop it seems really cool great atmosphere and awesome sandwiches best in town the cappuccino needed a bit of work though overall pretty cool</td><td>0.0</td><td>5.0</td></tr><tr><td>this place is great the food is fresh the service is punctual and the decor is exceptional i would recommend this place for a family dinner</td><td>0.0</td><td>5.0</td></tr></tbody></table></div>"
      ]
     },
     "metadata": {
      "application/vnd.databricks.v1+output": {
       "addedWidgets": {},
       "aggData": [],
       "aggError": "",
       "aggOverflow": false,
       "aggSchema": [],
       "aggSeriesLimitReached": false,
       "aggType": "",
       "arguments": {},
       "columnCustomDisplayInfos": {},
       "data": [
        [
         "the following review contains exaggeration i once waited minutes for a cup of coffee this place sucks the decor is frigid and weird they have weird things going on they try to sell you all kinds of stuff like used cds they are obviously really selfimportant because everything has a really special grooveground label on it i just plain hate this place and their service is so slow its funny they only have one person working at a time and this poor sucker has to make all this crazy stuff by himself ive been there about times and left pissedoff in each instance their menu is ridiculous really expensive desserts mocktails souffles and everything is overpriced also they do not have soymilk i believe its on the menu but they dont have any i am never going to grooveground again even though its within blocks of my home",
         2,
         "1.0"
        ],
        [
         "one fo the best places to get your dance on in my opinion cover can range from free so where do i start there are essentially levels to this place dancing goes on all but the most happening spots are on the st and th to get your groove on the nd level is more like a mezzanine where you can gaze down on all the pple getting down rd floor is for vip and you can look up through the part of the clear dance floor on the th level ladies beware unless youre wanting to show off your goods th level has a much larger dance area but is always still packed th level is the rooftop and a great escape from the crowds or to catch some fresh air great view of the strip too usually has a live band playing more mellow music update wah guess im a ghetto girl since its one of my more preferred places to do some booty dancing",
         3,
         "3.0"
        ],
        [
         "this place stinks like medicine i dont know what it is but it has smelled that way for years what the fuck is it this is the most highbrow grocery store in the area like total fance gourmet foods but they have a few good things going for them deli you can make a sandwich that is pretty fucking fly pizza shop they make a good slice cokes good cokes from the fountain in a wax cup none of that bullshit throwaway plastic novelty shit coffee pretty rad coffee for good price hot sauce has one of the better selections of hot sauces in town mostly gimmick stuff though fruit way cheaper than food coop for a banana still the stink ruins it that and the total foofery",
         3,
         "3.0"
        ],
        [
         "not sure about the previous reviews vegetarian statement but chloe is definitely delicious its a cute little byob we had the special appetizer an amazing gnocchi dish with a meat sauce lamb beef and something else that exploded with flavor the halibut was good and plentiful served on delicious heirloom tomatoes with microarugala our other dish was goat cheesericotta ravioli with edamame toasted pine nuts and mushrooms it was a rich dish dessert was a berry cobbler the berries were yummy but the vanilla ice cream stole the show i cant believe i forgot to ask if they made it or if i could buy that brand somewhere",
         0,
         "5.0"
        ],
        [
         "every time i go up to santa barbara to go walking on state street and no not as in streetwalking lolmore like shopperusingi make a stop at the santa barbara brewing company during the fall especially since there seems to be so many more sporting events on tvthis place rocks plenty of big screens and tvs showing a vast array of stuff for your viewing pleasure they bre their own beer on sitethe blonde hef ipa red and stout are their poular onesand you can get a little sampler of if you cant make up your mind definitely order yourself a side of their garlic and rosemary fries with the side of ranchyou and your tummy will thank me later your loved ones however might not",
         0,
         "5.0"
        ],
        [
         "so i remember when this place used to be a beautiful restaurant even if the food wasnt always teh greatest then they turned the main entry into a sam ash sniff luckily the main portion of the place has been converted into a special events venue for weddings private parties and proms the gardens are very beautiful and from the looks of it theyre restoring thigns bit by bit where to start its got greek styling written all over it with roman columns statues and greenery grape motifs flowing everywhere there is just so much for me to say but my favorite room is the grand ballroom with the double staircase its gorgeous and opulent woot several rooms are available for use",
         0,
         "5.0"
        ],
        [
         "i will respond to two interesting reviews of this city with my own celebration of its mediocrity and hope to inspire others to help me make it better here the most common praise i hear from people new to tucson is that the weather is great and they like the sight of the mountains even though this is probably just a saysomethingniceordontsayanythingatall the weather is actually convenient you can do things outside on any day of the year and there are mountains and therefore parks trails etc in every direction its a myth that its too hot to do things outside in the summer in az other places are hotter theres the u of a here which makes things better and a nearly unlimited diversity in types of places to eat buy crap hang out get drunk be offended etc as a vacation spot tucson is one of the best places to chill without a beach especially if you are really old and like to golf and has some very nice resorts the only really important tourist stop is the desert museum which is not like the museums youre thinking of the one complaint i get most often from people visiting or who have recently moved is that the people at bars are not friendly and even sometimes rude tucson whats your problem star i also get a lot of complaints that there is a lack of a young professional population which is very true",
         1,
         "4.0"
        ],
        [
         "abby katie opened this nice airy boutique about a year ago they hand make all of their clothing on site and it is really cute stuff their jackets are beautifully tailored their pants are flattering and comfortable and their tops are just plain hot it always feels great to buy from a local business but it feels even better to buy a bunch of hand made well designed clothes from such sweet ladies",
         0,
         "5.0"
        ],
        [
         "theyre not digital yet so the turn around can be anywhere from to days if youre lucky you are able to see your photos right after the photoshoot on the computer but youve still gotta wait a week or their sheets and portrait packages are cheap if you remembered to print out your coupons their backgrounds are very basic and even boring compared to what the other digital studios now offer but the photo quality seems to be nicer than the digital ones",
         0,
         "5.0"
        ],
        [
         "spanish restaurant thats been an establishment in the area as far back as i can remember the atmosphere is very lively and bustling but romantic i am in love with their chicken and yellow rice and their pompano palillote almendrina thats a filet of pompano w house stuffing cooked in a parchement bag its so good i prefer this version over the one they sell at columbia good sangria made by a recipe they used in their family restaurant in madrid dessert menu has a great selection and really yummy this place is kinda pricey tho so not for every day dining",
         1,
         "4.0"
        ],
        [
         "love this place especially for breakfast or brunch nestled in the cute lil downtown area of dunedin this place is located across the street from kellys for just about anything also located right off the path of the pinellas trail i usualyl wind up dining in the sunroom area thats totally airconditioned so youre not uncomfortable has a great bistrocafe feel to it food is excellent and im never disappointed staff is also very friendly but watch out for the crowds during peak dining times",
         0,
         "5.0"
        ],
        [
         "best margherita pizza ever this stuff is unbelieveable also their normal pizza is great too everything ive had there is great but seriously the margherita pizza is so good that you literally cannot stop yelling about how good it is that whole time youre eating it but beware it has very little cheese on it i usually ask for extra cheese which still leaves it mostly cheeseless great for pickup or eatin friendly service parking is a little tough",
         1,
         "4.0"
        ],
        [
         "ill differ with another reviewer on this one a small comfortable byo just off south street gnocchi has good basic northern italian food the frito misto appetizer is more than enough for two with perfectly fried seafood including calamari and shrimp the trademark gnocchi is ethereal and is served as a side or as a main dish the only caution is the veal which could be of better quality have the same dishes with chicken and you wont be disappointed",
         4,
         "2.0"
        ],
        [
         "i too have walked in to find no one around not even staff its an alternative to christian open mic night at a nearby coffee house sorry thats not my scene but not a place id make a point to visit the prices were a bit high if i recall if im taking the speedline and want coffee on the way ill go to wawa across the street ive only actually ordered there once they dont always follow their posted hours so ive missed out on other visits",
         2,
         "1.0"
        ],
        [
         "what a beautiful building i dont know the full history behind the building maybe it was a bank but it epitomizes luxury and class my mom was staying for a conference and i joined her for a night in philly the gorgeous rotunda lobby and elegant staircases make it a great place to hold a very special event i saw at least brides there and as to be expected the staff went above and beyond for service to the guests a once in a lifetime stay",
         0,
         "5.0"
        ],
        [
         "pretty good restaurant for american fare true to the name the decor inside is reminiscent of an old school house specials are written on a large chalk board over a booth across from the board with the alphabet spraweled over that love that they have sweet potato fries on the menu but make sure to ask for a side of honey too prices are fairly reasonable if not ever so slightly on the high side",
         0,
         "5.0"
        ],
        [
         "i was pleasantly surprised i enjoyed my large salad the greens were fresh and the chicken was delicious it was on the side which is how i prefer it we went for lunch so the drinks were cheap happy hour til i believe my cousin didnt like her salad and left it so the verdict is split the cost wasnt bad and if you are stuck in old city for lunch its not bad option",
         1,
         "4.0"
        ],
        [
         "it is out in the middle of no where on hwy inside a large rustic wood building good size room of penny candies in barrels home made fudge behind a glass counter and homemade chocolates and brittle packaged in cellaphone on tables in the middle of the room around a pound tons of candy and homemade too",
         1,
         "4.0"
        ],
        [
         "i had heard about this place and starrs other restaurants but i was very disappointed by el vez the food tasted like anything you could get at chi chis but cost times as much the drinks were strong and the best part of the evening was watching my mom get tipsy off of one large margarita",
         0,
         "5.0"
        ],
        [
         "the wall of candles is beautiful where the whole restaurant seems lit with only candle like beautiful long drapes from the ceiling the food is amazing would recommend the chopped med salad and the pork chops you can never go wrong with a stephen starr restaurant",
         0,
         "5.0"
        ],
        [
         "i love the orpheum for my emoindie fix saturday nights are the bestest if you drink only cover charge but you drink free all night love the acts that come through here my first being rilo kiley woot love the brit pop they play some times too",
         0,
         "5.0"
        ],
        [
         "i just moved into town and tried this coffee shop it seems really cool great atmosphere and awesome sandwiches best in town the cappuccino needed a bit of work though overall pretty cool",
         0,
         "5.0"
        ],
        [
         "this place is great the food is fresh the service is punctual and the decor is exceptional i would recommend this place for a family dinner",
         0,
         "5.0"
        ]
       ],
       "datasetInfos": [],
       "dbfsResultPath": null,
       "isJsonSchema": true,
       "metadata": {},
       "overflow": false,
       "plotOptions": {
        "customPlotOptions": {},
        "displayType": "table",
        "pivotAggregation": null,
        "pivotColumns": null,
        "xColumns": null,
        "yColumns": null
       },
       "removedWidgets": [],
       "schema": [
        {
         "metadata": "{}",
         "name": "text",
         "type": "\"string\""
        },
        {
         "metadata": "{\"ml_attr\":{\"type\":\"nominal\",\"num_vals\":5}}",
         "name": "prediction",
         "type": "\"double\""
        },
        {
         "metadata": "{}",
         "name": "decoded",
         "type": "\"string\""
        }
       ],
       "type": "table"
      }
     },
     "output_type": "display_data"
    }
   ],
   "source": [
    "# # Producing lables\n",
    "cleaned = prepare_data(reviews)\n",
    "result = predictions_udf(cleaned,ml_model, stringindexer)\n",
    "display(result)"
   ]
  },
  {
   "cell_type": "markdown",
   "metadata": {
    "application/vnd.databricks.v1+cell": {
     "cellMetadata": {},
     "inputWidgets": {},
     "nuid": "baf6a0fe-a12a-42a0-bcb1-aaa7c002ee5f",
     "showTitle": false,
     "title": ""
    }
   },
   "source": [
    "#### 1.5 Summarize which topics are the most popular\n",
    "\r\n",
    "Commented out this step that limits data in the predictions dataframe and aggregates data grouped by stars column. Need all columns and detailed data for reporting purposes in Pow r .\r\n"
   ]
  },
  {
   "cell_type": "code",
   "execution_count": null,
   "metadata": {
    "application/vnd.databricks.v1+cell": {
     "cellMetadata": {
      "byteLimit": 2048000,
      "rowLimit": 10000
     },
     "inputWidgets": {},
     "nuid": "a877c67d-3f25-4794-a270-c97573fc9d13",
     "showTitle": false,
     "title": ""
    }
   },
   "outputs": [
    {
     "name": "stdout",
     "output_type": "stream",
     "text": [
      "+-----+---+\n",
      "|stars|qty|\n",
      "+-----+---+\n",
      "|  5.0| 13|\n",
      "|  4.0|  5|\n",
      "|  1.0|  2|\n",
      "|  3.0|  2|\n",
      "|  2.0|  1|\n",
      "+-----+---+\n",
      "\n"
     ]
    }
   ],
   "source": [
    "# change the column name \n",
    "#predictions = result.withColumnRenamed('decoded', 'stars').select('stars')\n",
    "\n",
    "# Aggregate the topics and calculate the total qty of each review level\n",
    "#predictions_qty = topics.groupBy(col(\"stars\")).agg(count('stars').alias('qty')).orderBy(desc('qty'))\n",
    "#predictions_qty.show()"
   ]
  },
  {
   "cell_type": "markdown",
   "metadata": {
    "application/vnd.databricks.v1+cell": {
     "cellMetadata": {},
     "inputWidgets": {},
     "nuid": "a5c19ff2-65bf-45d8-b28f-7f41615fc2a8",
     "showTitle": false,
     "title": ""
    }
   },
   "source": [
    "#### 1.6 Save the result file to the `BI` folder\n"
   ]
  },
  {
   "cell_type": "markdown",
   "metadata": {
    "application/vnd.databricks.v1+cell": {
     "cellMetadata": {},
     "inputWidgets": {},
     "nuid": "96ff80ad-3b04-46bd-8c0b-49c10e2d19e4",
     "showTitle": false,
     "title": ""
    }
   },
   "source": [
    "Since spark is a distribution system, if you don't anything, the file you saved will be a folder with a couple of files. The files in the folder will be like this.\n",
    "<img src='https://s3.amazonaws.com/weclouddata/images/data_engineer/ml_prd2.jpg' width='40%'>\n",
    "\n",
    "Feel free to add logic to crt_sgl_file function to save just csv file"
   ]
  },
  {
   "cell_type": "code",
   "execution_count": null,
   "metadata": {
    "application/vnd.databricks.v1+cell": {
     "cellMetadata": {
      "byteLimit": 2048000,
      "rowLimit": 10000
     },
     "inputWidgets": {},
     "nuid": "0b5debd4-7fef-4950-a8dd-af1d5ce88974",
     "showTitle": false,
     "title": ""
    }
   },
   "outputs": [],
   "source": [
    "# Define this function to save the result DataFrame as a single CSV file\n",
    "#def crt_sgl_file(result_path, df):\n",
    "    # Repartition df to a single file and write it directly to the result path as a CSV file\n",
    "    #df.coalesce(1).write.mode(\"overwrite\").option(\"header\", \"true\").csv(result_path)\n",
    "\n",
    "    #print('Single CSV file created')\n",
    "\n",
    "# Example usage:\n",
    "# save_as_single_csv(\"abfss://de-yelp-train@wcddestorageexternal.dfs.core.windows.net/results/\", predictions_qty)\n"
   ]
  },
  {
   "cell_type": "code",
   "execution_count": null,
   "metadata": {},
   "outputs": [],
   "source": [
    "# Define this function to save the result DataFrame as a single CSV file\n",
    "def crt_sgl_file(result_path, df):\n",
    "    # Repartition df to a single file and write it directly to the result path as a CSV file\n",
    "    #df.coalesce(1).write.mode(\"overwrite\").option(\"header\", \"true\").csv(result_path)\n",
    "    df.coalesce(1).write.mode(\"overwrite\").option(\"header\", \"true\").parquet(result_path)\n",
    "\n",
    "    print('Single Parquet file created')\n",
    "\n",
    "# Example usage:\n",
    "# save_as_single_csv(\"abfss://de-yelp-train@wcddestorageexternal.dfs.core.windows.net/results/\", predictions_qty)"
   ]
  },
  {
   "cell_type": "code",
   "execution_count": null,
   "metadata": {
    "application/vnd.databricks.v1+cell": {
     "cellMetadata": {
      "byteLimit": 2048000,
      "rowLimit": 10000
     },
     "inputWidgets": {},
     "nuid": "ffc1d99c-a3ad-425d-bf97-a3d75d52f552",
     "showTitle": false,
     "title": ""
    }
   },
   "outputs": [
    {
     "name": "stdout",
     "output_type": "stream",
     "text": [
      "Single CSV file created\n"
     ]
    }
   ],
   "source": [
    "# run the function\n",
    "\n",
    "crt_sgl_file(\"abfss://de-yelp-train@wcddestorageexternal.dfs.core.windows.net/results/\", predictions_qty)"
   ]
  },
  {
   "cell_type": "code",
   "execution_count": null,
   "metadata": {
    "application/vnd.databricks.v1+cell": {
     "cellMetadata": {},
     "inputWidgets": {},
     "nuid": "92f22808-9235-4091-aa3b-26800e551c4b",
     "showTitle": false,
     "title": ""
    }
   },
   "outputs": [],
   "source": []
  }
 ],
 "metadata": {
  "application/vnd.databricks.v1+notebook": {
   "dashboards": [],
   "environmentMetadata": null,
   "language": "python",
   "notebookMetadata": {
    "mostRecentlyExecutedCommandWithImplicitDF": {
     "commandId": 1164488748808345,
     "dataframes": [
      "_sqldf"
     ]
    },
    "pythonIndentUnit": 4
   },
   "notebookName": "model_inference",
   "widgets": {}
  },
  "kernelspec": {
   "display_name": "Python 3 (ipykernel)",
   "language": "python",
   "name": "python3"
  },
  "language_info": {
   "codemirror_mode": {
    "name": "ipython",
    "version": 3
   },
   "file_extension": ".py",
   "mimetype": "text/x-python",
   "name": "python",
   "nbconvert_exporter": "python",
   "pygments_lexer": "ipython3",
   "version": "3.12.4"
  }
 },
 "nbformat": 4,
 "nbformat_minor": 4
}
